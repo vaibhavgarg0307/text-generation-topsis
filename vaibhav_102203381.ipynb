{
  "nbformat": 4,
  "nbformat_minor": 0,
  "metadata": {
    "colab": {
      "provenance": []
    },
    "kernelspec": {
      "name": "python3",
      "display_name": "Python 3"
    },
    "language_info": {
      "name": "python"
    }
  },
  "cells": [
    {
      "cell_type": "code",
      "source": [
        "pip install transformers\n"
      ],
      "metadata": {
        "colab": {
          "base_uri": "https://localhost:8080/"
        },
        "id": "BvEPIda6gWj_",
        "outputId": "2a52da41-361a-441a-ae78-ce453a54e64f"
      },
      "execution_count": 5,
      "outputs": [
        {
          "output_type": "stream",
          "name": "stdout",
          "text": [
            "Requirement already satisfied: transformers in /usr/local/lib/python3.11/dist-packages (4.47.1)\n",
            "Requirement already satisfied: filelock in /usr/local/lib/python3.11/dist-packages (from transformers) (3.17.0)\n",
            "Requirement already satisfied: huggingface-hub<1.0,>=0.24.0 in /usr/local/lib/python3.11/dist-packages (from transformers) (0.27.1)\n",
            "Requirement already satisfied: numpy>=1.17 in /usr/local/lib/python3.11/dist-packages (from transformers) (1.26.4)\n",
            "Requirement already satisfied: packaging>=20.0 in /usr/local/lib/python3.11/dist-packages (from transformers) (24.2)\n",
            "Requirement already satisfied: pyyaml>=5.1 in /usr/local/lib/python3.11/dist-packages (from transformers) (6.0.2)\n",
            "Requirement already satisfied: regex!=2019.12.17 in /usr/local/lib/python3.11/dist-packages (from transformers) (2024.11.6)\n",
            "Requirement already satisfied: requests in /usr/local/lib/python3.11/dist-packages (from transformers) (2.32.3)\n",
            "Requirement already satisfied: tokenizers<0.22,>=0.21 in /usr/local/lib/python3.11/dist-packages (from transformers) (0.21.0)\n",
            "Requirement already satisfied: safetensors>=0.4.1 in /usr/local/lib/python3.11/dist-packages (from transformers) (0.5.2)\n",
            "Requirement already satisfied: tqdm>=4.27 in /usr/local/lib/python3.11/dist-packages (from transformers) (4.67.1)\n",
            "Requirement already satisfied: fsspec>=2023.5.0 in /usr/local/lib/python3.11/dist-packages (from huggingface-hub<1.0,>=0.24.0->transformers) (2024.9.0)\n",
            "Requirement already satisfied: typing-extensions>=3.7.4.3 in /usr/local/lib/python3.11/dist-packages (from huggingface-hub<1.0,>=0.24.0->transformers) (4.12.2)\n",
            "Requirement already satisfied: charset-normalizer<4,>=2 in /usr/local/lib/python3.11/dist-packages (from requests->transformers) (3.4.1)\n",
            "Requirement already satisfied: idna<4,>=2.5 in /usr/local/lib/python3.11/dist-packages (from requests->transformers) (3.10)\n",
            "Requirement already satisfied: urllib3<3,>=1.21.1 in /usr/local/lib/python3.11/dist-packages (from requests->transformers) (2.3.0)\n",
            "Requirement already satisfied: certifi>=2017.4.17 in /usr/local/lib/python3.11/dist-packages (from requests->transformers) (2024.12.14)\n"
          ]
        }
      ]
    },
    {
      "cell_type": "code",
      "source": [
        "!pip install topsis"
      ],
      "metadata": {
        "colab": {
          "base_uri": "https://localhost:8080/"
        },
        "id": "8ugfs6v_gw13",
        "outputId": "69f5be0b-0959-4047-f0ea-446efa652e3f"
      },
      "execution_count": 12,
      "outputs": [
        {
          "output_type": "stream",
          "name": "stdout",
          "text": [
            "Collecting topsis\n",
            "  Downloading topsis-0.2.tar.gz (1.9 kB)\n",
            "  Preparing metadata (setup.py) ... \u001b[?25l\u001b[?25hdone\n",
            "Requirement already satisfied: pandas in /usr/local/lib/python3.11/dist-packages (from topsis) (2.2.2)\n",
            "Requirement already satisfied: numpy>=1.23.2 in /usr/local/lib/python3.11/dist-packages (from pandas->topsis) (1.26.4)\n",
            "Requirement already satisfied: python-dateutil>=2.8.2 in /usr/local/lib/python3.11/dist-packages (from pandas->topsis) (2.8.2)\n",
            "Requirement already satisfied: pytz>=2020.1 in /usr/local/lib/python3.11/dist-packages (from pandas->topsis) (2024.2)\n",
            "Requirement already satisfied: tzdata>=2022.7 in /usr/local/lib/python3.11/dist-packages (from pandas->topsis) (2025.1)\n",
            "Requirement already satisfied: six>=1.5 in /usr/local/lib/python3.11/dist-packages (from python-dateutil>=2.8.2->pandas->topsis) (1.17.0)\n",
            "Building wheels for collected packages: topsis\n",
            "  Building wheel for topsis (setup.py) ... \u001b[?25l\u001b[?25hdone\n",
            "  Created wheel for topsis: filename=topsis-0.2-py3-none-any.whl size=2161 sha256=bc6f6d3a2429c24ed92e6e56d7b68446419797202b14f1fe38a750d0cae39e0e\n",
            "  Stored in directory: /root/.cache/pip/wheels/cd/c5/3b/11d030a6ad786089e38f53a98a443815716e7603a0f72999ef\n",
            "Successfully built topsis\n",
            "Installing collected packages: topsis\n",
            "Successfully installed topsis-0.2\n"
          ]
        }
      ]
    },
    {
      "cell_type": "code",
      "source": [
        "import torch\n",
        "from transformers import AutoTokenizer, AutoModelForCausalLM, pipeline\n",
        "import pandas as pd\n",
        "import matplotlib.pyplot as plt\n",
        "import numpy as np\n",
        "import math\n",
        "models = {\n",
        "    \"GPT-2\": \"gpt2\",\n",
        "    \"GPT-Neo-125M\": \"EleutherAI/gpt-neo-125M\",\n",
        "    \"BLOOM-560M\": \"bigscience/bloom-560m\"\n",
        "}\n",
        "\n",
        "prompt = (\n",
        "    \"In the year 2075, humanity had finally achieved interstellar travel. As Captain of the starship Eureka, \"\n",
        "    \"your mission was to explore the uncharted planet Xylon. Upon landing, you discovered something astonishing—\"\n",
        "    \"an ancient structure glowing with an otherworldly light. As you step closer, the structure begins to hum, and suddenly...\"\n",
        ")\n",
        "\n",
        "results = []\n",
        "def calculate_perplexity(log_probs):\n",
        "    return math.exp(-sum(log_probs) / len(log_probs))\n",
        "\n",
        "for model_name, model_path in models.items():\n",
        "    print(f\"Processing model: {model_name}\")\n",
        "    device = \"cuda\" if torch.cuda.is_available() else \"cpu\"\n",
        "    print(f\"Device set to use {device}\")\n",
        "\n",
        "    tokenizer = AutoTokenizer.from_pretrained(model_path)\n",
        "    model = AutoModelForCausalLM.from_pretrained(model_path)\n",
        "    generator = pipeline(\"text-generation\", model=model, tokenizer=tokenizer, device=0 if device == \"cuda\" else -1)\n",
        "\n",
        "    import time\n",
        "    start_time = time.time()\n",
        "    output = generator(\n",
        "        prompt,\n",
        "        max_new_tokens=50,\n",
        "        num_return_sequences=1,\n",
        "        truncation=True,\n",
        "        pad_token_id=tokenizer.eos_token_id\n",
        "    )\n",
        "    inference_time = time.time() - start_time\n",
        "\n",
        "    generated_text = output[0][\"generated_text\"]\n",
        "    tokens = tokenizer.encode(generated_text, return_tensors=\"pt\").to(model.device)\n",
        "    with torch.no_grad():\n",
        "        outputs = model(tokens, labels=tokens)\n",
        "        log_probs = outputs.loss.item()\n",
        "        perplexity = calculate_perplexity([log_probs])\n",
        "\n",
        "    print(f\"Generated text by {model_name}: {generated_text[:200]}...\")\n",
        "\n",
        "    output_quality = len(generated_text.split()) / 50\n",
        "\n",
        "    results.append({\n",
        "        \"Model\": model_name,\n",
        "        \"Inference Time\": inference_time,\n",
        "        \"Perplexity\": perplexity,\n",
        "        \"Output Quality\": output_quality\n",
        "    })\n",
        "\n",
        "df = pd.DataFrame(results)\n",
        "\n",
        "def topsis(matrix, weights, impacts):\n",
        "    normalized_matrix = matrix / np.sqrt((matrix ** 2).sum(axis=0))\n",
        "    weighted_matrix = normalized_matrix * weights\n",
        "    ideal_best = np.max(weighted_matrix, axis=0) if impacts[0] == '+' else np.min(weighted_matrix, axis=0)\n",
        "    ideal_worst = np.min(weighted_matrix, axis=0) if impacts[0] == '+' else np.max(weighted_matrix, axis=0)\n",
        "    separation_best = np.sqrt(((weighted_matrix - ideal_best) ** 2).sum(axis=1))\n",
        "    separation_worst = np.sqrt(((weighted_matrix - ideal_worst) ** 2).sum(axis=1))\n",
        "    topsis_scores = separation_worst / (separation_best + separation_worst)\n",
        "    ranks = topsis_scores.argsort()[::-1] + 1\n",
        "    return topsis_scores, ranks\n",
        "\n",
        "decision_matrix = df[[\"Inference Time\", \"Perplexity\", \"Output Quality\"]].values\n",
        "weights = [0.3, 0.4, 0.3]\n",
        "impacts = [\"-\", \"-\", \"+\"]\n",
        "df[\"TOPSIS Score\"], df[\"Rank\"] = topsis(decision_matrix, weights, impacts)\n",
        "\n",
        "df = df.sort_values(by=\"Rank\")\n",
        "\n",
        "print(\"\\nFinal Results:\")\n",
        "print(df)\n",
        "\n",
        "plt.figure(figsize=(10, 6))\n",
        "plt.barh(df[\"Model\"], df[\"TOPSIS Score\"], color='skyblue')\n",
        "plt.xlabel(\"TOPSIS Score\")\n",
        "plt.ylabel(\"Model\")\n",
        "plt.title(\"TOPSIS Scores of Pre-trained Models for Text Generation\")\n",
        "plt.gca().invert_yaxis()\n",
        "plt.show()\n"
      ],
      "metadata": {
        "colab": {
          "base_uri": "https://localhost:8080/",
          "height": 1000
        },
        "id": "Hhp7Y3zKgpfl",
        "outputId": "6f091934-28db-4afa-f186-630fcf081eb1"
      },
      "execution_count": 15,
      "outputs": [
        {
          "output_type": "stream",
          "name": "stdout",
          "text": [
            "Processing model: GPT-2\n",
            "Device set to use cpu\n"
          ]
        },
        {
          "output_type": "stream",
          "name": "stderr",
          "text": [
            "Device set to use cpu\n"
          ]
        },
        {
          "output_type": "stream",
          "name": "stdout",
          "text": [
            "Generated text by GPT-2: In the year 2075, humanity had finally achieved interstellar travel. As Captain of the starship Eureka, your mission was to explore the uncharted planet Xylon. Upon landing, you discovered something a...\n",
            "Processing model: GPT-Neo-125M\n",
            "Device set to use cpu\n"
          ]
        },
        {
          "output_type": "stream",
          "name": "stderr",
          "text": [
            "Device set to use cpu\n"
          ]
        },
        {
          "output_type": "stream",
          "name": "stdout",
          "text": [
            "Generated text by GPT-Neo-125M: In the year 2075, humanity had finally achieved interstellar travel. As Captain of the starship Eureka, your mission was to explore the uncharted planet Xylon. Upon landing, you discovered something a...\n",
            "Processing model: BLOOM-560M\n",
            "Device set to use cpu\n"
          ]
        },
        {
          "output_type": "stream",
          "name": "stderr",
          "text": [
            "Device set to use cpu\n",
            "Asking to truncate to max_length but no maximum length is provided and the model has no predefined maximum length. Default to no truncation.\n"
          ]
        },
        {
          "output_type": "stream",
          "name": "stdout",
          "text": [
            "Generated text by BLOOM-560M: In the year 2075, humanity had finally achieved interstellar travel. As Captain of the starship Eureka, your mission was to explore the uncharted planet Xylon. Upon landing, you discovered something a...\n",
            "\n",
            "Final Results:\n",
            "          Model  Inference Time  Perplexity  Output Quality  TOPSIS Score  \\\n",
            "1  GPT-Neo-125M        5.720248    0.067233            1.80      0.265110   \n",
            "2    BLOOM-560M        2.009462    0.033020            0.98      1.000000   \n",
            "0         GPT-2        8.310299    0.047952            1.72      0.290909   \n",
            "\n",
            "   Rank  \n",
            "1     1  \n",
            "2     2  \n",
            "0     3  \n"
          ]
        },
        {
          "output_type": "display_data",
          "data": {
            "text/plain": [
              "<Figure size 1000x600 with 1 Axes>"
            ],
            "image/png": "[encoded data removed]"
          },
          "metadata": {}
        }
      ]
    }
  ]
}